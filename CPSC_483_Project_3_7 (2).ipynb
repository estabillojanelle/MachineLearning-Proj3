{
 "cells": [
  {
   "cell_type": "markdown",
   "id": "ac3c612a",
   "metadata": {},
   "source": [
    "# CPSC 483 Project 3 - Real-World Data, Preprocessing, and Classifier Performance ##\n",
    "\n",
    "### Project 3, Fall 2021(Section 01)\n",
    "\n",
    "**In this project you will use scikit-learn, which is a higher-level machine learning library that works with NumPy data, and Pandas, a library that makes it easier to manipulate data. You will explore a variety of classification algorithms, and compare their performance on a “real-world” dataset, which will introduce its own set of challenges.**\n",
    "\n",
    "May god have mercy on our grade.\n",
    "\n",
    "* Janelle Estabillo estabillojanelle@csu.fullerton.edu\n",
    "* Benjamin Ahn benahn333@csu.fullerton.edu\n"
   ]
  },
  {
   "cell_type": "markdown",
   "id": "2869c085",
   "metadata": {},
   "source": [
    "### Examining the Dataset\n",
    "\n",
    "* Importing our Dataset using Pandas\n",
    "* Note that unlike most CSV files, the separator is actually ';' rather than ','. \n"
   ]
  },
  {
   "cell_type": "code",
   "execution_count": 1,
   "id": "184749d4",
   "metadata": {},
   "outputs": [
    {
     "name": "stdout",
     "output_type": "stream",
     "text": [
      "(41188, 21)\n"
     ]
    },
    {
     "data": {
      "text/html": [
       "<div>\n",
       "<style scoped>\n",
       "    .dataframe tbody tr th:only-of-type {\n",
       "        vertical-align: middle;\n",
       "    }\n",
       "\n",
       "    .dataframe tbody tr th {\n",
       "        vertical-align: top;\n",
       "    }\n",
       "\n",
       "    .dataframe thead th {\n",
       "        text-align: right;\n",
       "    }\n",
       "</style>\n",
       "<table border=\"1\" class=\"dataframe\">\n",
       "  <thead>\n",
       "    <tr style=\"text-align: right;\">\n",
       "      <th></th>\n",
       "      <th>age</th>\n",
       "      <th>job</th>\n",
       "      <th>marital</th>\n",
       "      <th>education</th>\n",
       "      <th>default</th>\n",
       "      <th>housing</th>\n",
       "      <th>loan</th>\n",
       "      <th>contact</th>\n",
       "      <th>month</th>\n",
       "      <th>day_of_week</th>\n",
       "      <th>...</th>\n",
       "      <th>campaign</th>\n",
       "      <th>pdays</th>\n",
       "      <th>previous</th>\n",
       "      <th>poutcome</th>\n",
       "      <th>emp.var.rate</th>\n",
       "      <th>cons.price.idx</th>\n",
       "      <th>cons.conf.idx</th>\n",
       "      <th>euribor3m</th>\n",
       "      <th>nr.employed</th>\n",
       "      <th>y</th>\n",
       "    </tr>\n",
       "  </thead>\n",
       "  <tbody>\n",
       "    <tr>\n",
       "      <th>0</th>\n",
       "      <td>56</td>\n",
       "      <td>housemaid</td>\n",
       "      <td>married</td>\n",
       "      <td>basic.4y</td>\n",
       "      <td>no</td>\n",
       "      <td>no</td>\n",
       "      <td>no</td>\n",
       "      <td>telephone</td>\n",
       "      <td>may</td>\n",
       "      <td>mon</td>\n",
       "      <td>...</td>\n",
       "      <td>1</td>\n",
       "      <td>999</td>\n",
       "      <td>0</td>\n",
       "      <td>nonexistent</td>\n",
       "      <td>1.1</td>\n",
       "      <td>93.994</td>\n",
       "      <td>-36.4</td>\n",
       "      <td>4.857</td>\n",
       "      <td>5191.0</td>\n",
       "      <td>no</td>\n",
       "    </tr>\n",
       "    <tr>\n",
       "      <th>1</th>\n",
       "      <td>57</td>\n",
       "      <td>services</td>\n",
       "      <td>married</td>\n",
       "      <td>high.school</td>\n",
       "      <td>unknown</td>\n",
       "      <td>no</td>\n",
       "      <td>no</td>\n",
       "      <td>telephone</td>\n",
       "      <td>may</td>\n",
       "      <td>mon</td>\n",
       "      <td>...</td>\n",
       "      <td>1</td>\n",
       "      <td>999</td>\n",
       "      <td>0</td>\n",
       "      <td>nonexistent</td>\n",
       "      <td>1.1</td>\n",
       "      <td>93.994</td>\n",
       "      <td>-36.4</td>\n",
       "      <td>4.857</td>\n",
       "      <td>5191.0</td>\n",
       "      <td>no</td>\n",
       "    </tr>\n",
       "    <tr>\n",
       "      <th>2</th>\n",
       "      <td>37</td>\n",
       "      <td>services</td>\n",
       "      <td>married</td>\n",
       "      <td>high.school</td>\n",
       "      <td>no</td>\n",
       "      <td>yes</td>\n",
       "      <td>no</td>\n",
       "      <td>telephone</td>\n",
       "      <td>may</td>\n",
       "      <td>mon</td>\n",
       "      <td>...</td>\n",
       "      <td>1</td>\n",
       "      <td>999</td>\n",
       "      <td>0</td>\n",
       "      <td>nonexistent</td>\n",
       "      <td>1.1</td>\n",
       "      <td>93.994</td>\n",
       "      <td>-36.4</td>\n",
       "      <td>4.857</td>\n",
       "      <td>5191.0</td>\n",
       "      <td>no</td>\n",
       "    </tr>\n",
       "    <tr>\n",
       "      <th>3</th>\n",
       "      <td>40</td>\n",
       "      <td>admin.</td>\n",
       "      <td>married</td>\n",
       "      <td>basic.6y</td>\n",
       "      <td>no</td>\n",
       "      <td>no</td>\n",
       "      <td>no</td>\n",
       "      <td>telephone</td>\n",
       "      <td>may</td>\n",
       "      <td>mon</td>\n",
       "      <td>...</td>\n",
       "      <td>1</td>\n",
       "      <td>999</td>\n",
       "      <td>0</td>\n",
       "      <td>nonexistent</td>\n",
       "      <td>1.1</td>\n",
       "      <td>93.994</td>\n",
       "      <td>-36.4</td>\n",
       "      <td>4.857</td>\n",
       "      <td>5191.0</td>\n",
       "      <td>no</td>\n",
       "    </tr>\n",
       "    <tr>\n",
       "      <th>4</th>\n",
       "      <td>56</td>\n",
       "      <td>services</td>\n",
       "      <td>married</td>\n",
       "      <td>high.school</td>\n",
       "      <td>no</td>\n",
       "      <td>no</td>\n",
       "      <td>yes</td>\n",
       "      <td>telephone</td>\n",
       "      <td>may</td>\n",
       "      <td>mon</td>\n",
       "      <td>...</td>\n",
       "      <td>1</td>\n",
       "      <td>999</td>\n",
       "      <td>0</td>\n",
       "      <td>nonexistent</td>\n",
       "      <td>1.1</td>\n",
       "      <td>93.994</td>\n",
       "      <td>-36.4</td>\n",
       "      <td>4.857</td>\n",
       "      <td>5191.0</td>\n",
       "      <td>no</td>\n",
       "    </tr>\n",
       "  </tbody>\n",
       "</table>\n",
       "<p>5 rows × 21 columns</p>\n",
       "</div>"
      ],
      "text/plain": [
       "   age        job  marital    education  default housing loan    contact  \\\n",
       "0   56  housemaid  married     basic.4y       no      no   no  telephone   \n",
       "1   57   services  married  high.school  unknown      no   no  telephone   \n",
       "2   37   services  married  high.school       no     yes   no  telephone   \n",
       "3   40     admin.  married     basic.6y       no      no   no  telephone   \n",
       "4   56   services  married  high.school       no      no  yes  telephone   \n",
       "\n",
       "  month day_of_week  ...  campaign  pdays  previous     poutcome emp.var.rate  \\\n",
       "0   may         mon  ...         1    999         0  nonexistent          1.1   \n",
       "1   may         mon  ...         1    999         0  nonexistent          1.1   \n",
       "2   may         mon  ...         1    999         0  nonexistent          1.1   \n",
       "3   may         mon  ...         1    999         0  nonexistent          1.1   \n",
       "4   may         mon  ...         1    999         0  nonexistent          1.1   \n",
       "\n",
       "   cons.price.idx  cons.conf.idx  euribor3m  nr.employed   y  \n",
       "0          93.994          -36.4      4.857       5191.0  no  \n",
       "1          93.994          -36.4      4.857       5191.0  no  \n",
       "2          93.994          -36.4      4.857       5191.0  no  \n",
       "3          93.994          -36.4      4.857       5191.0  no  \n",
       "4          93.994          -36.4      4.857       5191.0  no  \n",
       "\n",
       "[5 rows x 21 columns]"
      ]
     },
     "execution_count": 1,
     "metadata": {},
     "output_type": "execute_result"
    }
   ],
   "source": [
    "import pandas as pd\n",
    "\n",
    "#Reading our dataset\n",
    "df = pd.read_csv ('bank-additional-full.csv', sep=';')\n",
    "\n",
    "#Calling head method and examining it's contents\n",
    "print(df.shape)\n",
    "df.head()\n"
   ]
  },
  {
   "cell_type": "markdown",
   "id": "e540444c",
   "metadata": {},
   "source": [
    "### Encoding our Data\n",
    "\n",
    "* 90% of the data will be the Training Set\n",
    "* 10% of the data will be the Testing Set\n",
    "* Per the description in bank-additional-names.txt, the duration “should be discarded if the intention is to have a realistic predictive model.\"\n",
    "* The feature y is the target response; set this aside for use in training and testing, then drop it from your features.\n",
    "* Let’s take as input features the variables described as “bank client data” in bank-additional-names.txt."
   ]
  },
  {
   "cell_type": "markdown",
   "id": "05d15207",
   "metadata": {},
   "source": [
    "**Encoding the y variable as 1s and 0s**"
   ]
  },
  {
   "cell_type": "code",
   "execution_count": 2,
   "id": "4c9146f1",
   "metadata": {},
   "outputs": [
    {
     "data": {
      "text/plain": [
       "0    0.0\n",
       "1    0.0\n",
       "2    0.0\n",
       "3    0.0\n",
       "4    0.0\n",
       "Name: y, dtype: float64"
      ]
     },
     "execution_count": 2,
     "metadata": {},
     "output_type": "execute_result"
    }
   ],
   "source": [
    "# Encoding the predictor variable to 1 for yes and 0 for no\n",
    "\n",
    "predictor = df[\"y\"] == \"yes\"\n",
    "df.loc[predictor, \"y\"] = 1\n",
    "\n",
    "predictor = df[\"y\"] == \"no\"\n",
    "df.loc[predictor, \"y\"] = 0\n",
    "\n",
    "y = df['y'].astype(float, errors = 'raise')\n",
    "y.head(5)"
   ]
  },
  {
   "cell_type": "markdown",
   "id": "141d6568",
   "metadata": {},
   "source": [
    "**Grabbing Numerical Variables**"
   ]
  },
  {
   "cell_type": "code",
   "execution_count": 3,
   "id": "31007137",
   "metadata": {},
   "outputs": [
    {
     "data": {
      "text/html": [
       "<div>\n",
       "<style scoped>\n",
       "    .dataframe tbody tr th:only-of-type {\n",
       "        vertical-align: middle;\n",
       "    }\n",
       "\n",
       "    .dataframe tbody tr th {\n",
       "        vertical-align: top;\n",
       "    }\n",
       "\n",
       "    .dataframe thead th {\n",
       "        text-align: right;\n",
       "    }\n",
       "</style>\n",
       "<table border=\"1\" class=\"dataframe\">\n",
       "  <thead>\n",
       "    <tr style=\"text-align: right;\">\n",
       "      <th></th>\n",
       "      <th>age</th>\n",
       "      <th>previous</th>\n",
       "    </tr>\n",
       "  </thead>\n",
       "  <tbody>\n",
       "    <tr>\n",
       "      <th>0</th>\n",
       "      <td>56</td>\n",
       "      <td>0</td>\n",
       "    </tr>\n",
       "    <tr>\n",
       "      <th>1</th>\n",
       "      <td>57</td>\n",
       "      <td>0</td>\n",
       "    </tr>\n",
       "    <tr>\n",
       "      <th>2</th>\n",
       "      <td>37</td>\n",
       "      <td>0</td>\n",
       "    </tr>\n",
       "    <tr>\n",
       "      <th>3</th>\n",
       "      <td>40</td>\n",
       "      <td>0</td>\n",
       "    </tr>\n",
       "    <tr>\n",
       "      <th>4</th>\n",
       "      <td>56</td>\n",
       "      <td>0</td>\n",
       "    </tr>\n",
       "  </tbody>\n",
       "</table>\n",
       "</div>"
      ],
      "text/plain": [
       "   age  previous\n",
       "0   56         0\n",
       "1   57         0\n",
       "2   37         0\n",
       "3   40         0\n",
       "4   56         0"
      ]
     },
     "execution_count": 3,
     "metadata": {},
     "output_type": "execute_result"
    }
   ],
   "source": [
    "num = [\"age\", \"previous\"]\n",
    "df[num].head(5)"
   ]
  },
  {
   "cell_type": "markdown",
   "id": "5513cf26",
   "metadata": {},
   "source": [
    "**Grabbing our Categorical Variables**"
   ]
  },
  {
   "cell_type": "code",
   "execution_count": 4,
   "id": "f9953699",
   "metadata": {},
   "outputs": [
    {
     "data": {
      "text/html": [
       "<div>\n",
       "<style scoped>\n",
       "    .dataframe tbody tr th:only-of-type {\n",
       "        vertical-align: middle;\n",
       "    }\n",
       "\n",
       "    .dataframe tbody tr th {\n",
       "        vertical-align: top;\n",
       "    }\n",
       "\n",
       "    .dataframe thead th {\n",
       "        text-align: right;\n",
       "    }\n",
       "</style>\n",
       "<table border=\"1\" class=\"dataframe\">\n",
       "  <thead>\n",
       "    <tr style=\"text-align: right;\">\n",
       "      <th></th>\n",
       "      <th>age</th>\n",
       "      <th>job</th>\n",
       "      <th>marital</th>\n",
       "      <th>education</th>\n",
       "      <th>default</th>\n",
       "      <th>housing</th>\n",
       "      <th>loan</th>\n",
       "    </tr>\n",
       "  </thead>\n",
       "  <tbody>\n",
       "    <tr>\n",
       "      <th>0</th>\n",
       "      <td>56</td>\n",
       "      <td>housemaid</td>\n",
       "      <td>married</td>\n",
       "      <td>basic.4y</td>\n",
       "      <td>no</td>\n",
       "      <td>no</td>\n",
       "      <td>no</td>\n",
       "    </tr>\n",
       "    <tr>\n",
       "      <th>1</th>\n",
       "      <td>57</td>\n",
       "      <td>services</td>\n",
       "      <td>married</td>\n",
       "      <td>high.school</td>\n",
       "      <td>unknown</td>\n",
       "      <td>no</td>\n",
       "      <td>no</td>\n",
       "    </tr>\n",
       "    <tr>\n",
       "      <th>2</th>\n",
       "      <td>37</td>\n",
       "      <td>services</td>\n",
       "      <td>married</td>\n",
       "      <td>high.school</td>\n",
       "      <td>no</td>\n",
       "      <td>yes</td>\n",
       "      <td>no</td>\n",
       "    </tr>\n",
       "    <tr>\n",
       "      <th>3</th>\n",
       "      <td>40</td>\n",
       "      <td>admin.</td>\n",
       "      <td>married</td>\n",
       "      <td>basic.6y</td>\n",
       "      <td>no</td>\n",
       "      <td>no</td>\n",
       "      <td>no</td>\n",
       "    </tr>\n",
       "    <tr>\n",
       "      <th>4</th>\n",
       "      <td>56</td>\n",
       "      <td>services</td>\n",
       "      <td>married</td>\n",
       "      <td>high.school</td>\n",
       "      <td>no</td>\n",
       "      <td>no</td>\n",
       "      <td>yes</td>\n",
       "    </tr>\n",
       "  </tbody>\n",
       "</table>\n",
       "</div>"
      ],
      "text/plain": [
       "  age        job  marital    education  default housing loan\n",
       "0  56  housemaid  married     basic.4y       no      no   no\n",
       "1  57   services  married  high.school  unknown      no   no\n",
       "2  37   services  married  high.school       no     yes   no\n",
       "3  40     admin.  married     basic.6y       no      no   no\n",
       "4  56   services  married  high.school       no      no  yes"
      ]
     },
     "execution_count": 4,
     "metadata": {},
     "output_type": "execute_result"
    }
   ],
   "source": [
    "categorical = ['age', 'job', 'marital', 'education', 'default', 'housing', 'loan']\n",
    "\n",
    "for i in range(len(categorical)):\n",
    "    df[categorical[i]] = df[categorical[i]].astype('category')\n",
    "    \n",
    "df[categorical].head(5)"
   ]
  },
  {
   "cell_type": "markdown",
   "id": "4d59d210",
   "metadata": {},
   "source": [
    "**Getting our Dummy Variables**"
   ]
  },
  {
   "cell_type": "code",
   "execution_count": 5,
   "id": "445b247a",
   "metadata": {},
   "outputs": [
    {
     "data": {
      "text/html": [
       "<div>\n",
       "<style scoped>\n",
       "    .dataframe tbody tr th:only-of-type {\n",
       "        vertical-align: middle;\n",
       "    }\n",
       "\n",
       "    .dataframe tbody tr th {\n",
       "        vertical-align: top;\n",
       "    }\n",
       "\n",
       "    .dataframe thead th {\n",
       "        text-align: right;\n",
       "    }\n",
       "</style>\n",
       "<table border=\"1\" class=\"dataframe\">\n",
       "  <thead>\n",
       "    <tr style=\"text-align: right;\">\n",
       "      <th></th>\n",
       "      <th>age</th>\n",
       "      <th>previous</th>\n",
       "      <th>age_17</th>\n",
       "      <th>age_18</th>\n",
       "      <th>age_19</th>\n",
       "      <th>age_20</th>\n",
       "      <th>age_21</th>\n",
       "      <th>age_22</th>\n",
       "      <th>age_23</th>\n",
       "      <th>age_24</th>\n",
       "      <th>...</th>\n",
       "      <th>default_no</th>\n",
       "      <th>default_unknown</th>\n",
       "      <th>default_yes</th>\n",
       "      <th>housing_no</th>\n",
       "      <th>housing_unknown</th>\n",
       "      <th>housing_yes</th>\n",
       "      <th>loan_no</th>\n",
       "      <th>loan_unknown</th>\n",
       "      <th>loan_yes</th>\n",
       "      <th>y</th>\n",
       "    </tr>\n",
       "  </thead>\n",
       "  <tbody>\n",
       "    <tr>\n",
       "      <th>0</th>\n",
       "      <td>56</td>\n",
       "      <td>0</td>\n",
       "      <td>0</td>\n",
       "      <td>0</td>\n",
       "      <td>0</td>\n",
       "      <td>0</td>\n",
       "      <td>0</td>\n",
       "      <td>0</td>\n",
       "      <td>0</td>\n",
       "      <td>0</td>\n",
       "      <td>...</td>\n",
       "      <td>1</td>\n",
       "      <td>0</td>\n",
       "      <td>0</td>\n",
       "      <td>1</td>\n",
       "      <td>0</td>\n",
       "      <td>0</td>\n",
       "      <td>1</td>\n",
       "      <td>0</td>\n",
       "      <td>0</td>\n",
       "      <td>0.0</td>\n",
       "    </tr>\n",
       "    <tr>\n",
       "      <th>1</th>\n",
       "      <td>57</td>\n",
       "      <td>0</td>\n",
       "      <td>0</td>\n",
       "      <td>0</td>\n",
       "      <td>0</td>\n",
       "      <td>0</td>\n",
       "      <td>0</td>\n",
       "      <td>0</td>\n",
       "      <td>0</td>\n",
       "      <td>0</td>\n",
       "      <td>...</td>\n",
       "      <td>0</td>\n",
       "      <td>1</td>\n",
       "      <td>0</td>\n",
       "      <td>1</td>\n",
       "      <td>0</td>\n",
       "      <td>0</td>\n",
       "      <td>1</td>\n",
       "      <td>0</td>\n",
       "      <td>0</td>\n",
       "      <td>0.0</td>\n",
       "    </tr>\n",
       "    <tr>\n",
       "      <th>2</th>\n",
       "      <td>37</td>\n",
       "      <td>0</td>\n",
       "      <td>0</td>\n",
       "      <td>0</td>\n",
       "      <td>0</td>\n",
       "      <td>0</td>\n",
       "      <td>0</td>\n",
       "      <td>0</td>\n",
       "      <td>0</td>\n",
       "      <td>0</td>\n",
       "      <td>...</td>\n",
       "      <td>1</td>\n",
       "      <td>0</td>\n",
       "      <td>0</td>\n",
       "      <td>0</td>\n",
       "      <td>0</td>\n",
       "      <td>1</td>\n",
       "      <td>1</td>\n",
       "      <td>0</td>\n",
       "      <td>0</td>\n",
       "      <td>0.0</td>\n",
       "    </tr>\n",
       "    <tr>\n",
       "      <th>3</th>\n",
       "      <td>40</td>\n",
       "      <td>0</td>\n",
       "      <td>0</td>\n",
       "      <td>0</td>\n",
       "      <td>0</td>\n",
       "      <td>0</td>\n",
       "      <td>0</td>\n",
       "      <td>0</td>\n",
       "      <td>0</td>\n",
       "      <td>0</td>\n",
       "      <td>...</td>\n",
       "      <td>1</td>\n",
       "      <td>0</td>\n",
       "      <td>0</td>\n",
       "      <td>1</td>\n",
       "      <td>0</td>\n",
       "      <td>0</td>\n",
       "      <td>1</td>\n",
       "      <td>0</td>\n",
       "      <td>0</td>\n",
       "      <td>0.0</td>\n",
       "    </tr>\n",
       "    <tr>\n",
       "      <th>4</th>\n",
       "      <td>56</td>\n",
       "      <td>0</td>\n",
       "      <td>0</td>\n",
       "      <td>0</td>\n",
       "      <td>0</td>\n",
       "      <td>0</td>\n",
       "      <td>0</td>\n",
       "      <td>0</td>\n",
       "      <td>0</td>\n",
       "      <td>0</td>\n",
       "      <td>...</td>\n",
       "      <td>1</td>\n",
       "      <td>0</td>\n",
       "      <td>0</td>\n",
       "      <td>1</td>\n",
       "      <td>0</td>\n",
       "      <td>0</td>\n",
       "      <td>0</td>\n",
       "      <td>0</td>\n",
       "      <td>1</td>\n",
       "      <td>0.0</td>\n",
       "    </tr>\n",
       "  </tbody>\n",
       "</table>\n",
       "<p>5 rows × 114 columns</p>\n",
       "</div>"
      ],
      "text/plain": [
       "  age  previous  age_17  age_18  age_19  age_20  age_21  age_22  age_23  \\\n",
       "0  56         0       0       0       0       0       0       0       0   \n",
       "1  57         0       0       0       0       0       0       0       0   \n",
       "2  37         0       0       0       0       0       0       0       0   \n",
       "3  40         0       0       0       0       0       0       0       0   \n",
       "4  56         0       0       0       0       0       0       0       0   \n",
       "\n",
       "   age_24  ...  default_no  default_unknown  default_yes  housing_no  \\\n",
       "0       0  ...           1                0            0           1   \n",
       "1       0  ...           0                1            0           1   \n",
       "2       0  ...           1                0            0           0   \n",
       "3       0  ...           1                0            0           1   \n",
       "4       0  ...           1                0            0           1   \n",
       "\n",
       "   housing_unknown  housing_yes  loan_no  loan_unknown  loan_yes    y  \n",
       "0                0            0        1             0         0  0.0  \n",
       "1                0            0        1             0         0  0.0  \n",
       "2                0            1        1             0         0  0.0  \n",
       "3                0            0        1             0         0  0.0  \n",
       "4                0            0        0             0         1  0.0  \n",
       "\n",
       "[5 rows x 114 columns]"
      ]
     },
     "execution_count": 5,
     "metadata": {},
     "output_type": "execute_result"
    }
   ],
   "source": [
    "dummies = pd.get_dummies(df[categorical])\n",
    "#dummies.head(5)\n",
    "\n",
    "# Combining dummy variables and numeric variables\n",
    "df1 = df[num]\n",
    "\n",
    "df2 = pd.concat([df1, dummies, y], axis=1)\n",
    "df = df2\n",
    "\n",
    "df.shape\n",
    "df.head(5)"
   ]
  },
  {
   "cell_type": "code",
   "execution_count": 6,
   "id": "87ceef81",
   "metadata": {},
   "outputs": [
    {
     "data": {
      "text/html": [
       "<div>\n",
       "<style scoped>\n",
       "    .dataframe tbody tr th:only-of-type {\n",
       "        vertical-align: middle;\n",
       "    }\n",
       "\n",
       "    .dataframe tbody tr th {\n",
       "        vertical-align: top;\n",
       "    }\n",
       "\n",
       "    .dataframe thead th {\n",
       "        text-align: right;\n",
       "    }\n",
       "</style>\n",
       "<table border=\"1\" class=\"dataframe\">\n",
       "  <thead>\n",
       "    <tr style=\"text-align: right;\">\n",
       "      <th></th>\n",
       "      <th>age</th>\n",
       "      <th>previous</th>\n",
       "      <th>age_17</th>\n",
       "      <th>age_18</th>\n",
       "      <th>age_19</th>\n",
       "      <th>age_20</th>\n",
       "      <th>age_21</th>\n",
       "      <th>age_22</th>\n",
       "      <th>age_23</th>\n",
       "      <th>age_24</th>\n",
       "      <th>...</th>\n",
       "      <th>education_unknown</th>\n",
       "      <th>default_no</th>\n",
       "      <th>default_unknown</th>\n",
       "      <th>default_yes</th>\n",
       "      <th>housing_no</th>\n",
       "      <th>housing_unknown</th>\n",
       "      <th>housing_yes</th>\n",
       "      <th>loan_no</th>\n",
       "      <th>loan_unknown</th>\n",
       "      <th>loan_yes</th>\n",
       "    </tr>\n",
       "  </thead>\n",
       "  <tbody>\n",
       "    <tr>\n",
       "      <th>37215</th>\n",
       "      <td>38</td>\n",
       "      <td>0</td>\n",
       "      <td>0</td>\n",
       "      <td>0</td>\n",
       "      <td>0</td>\n",
       "      <td>0</td>\n",
       "      <td>0</td>\n",
       "      <td>0</td>\n",
       "      <td>0</td>\n",
       "      <td>0</td>\n",
       "      <td>...</td>\n",
       "      <td>0</td>\n",
       "      <td>1</td>\n",
       "      <td>0</td>\n",
       "      <td>0</td>\n",
       "      <td>0</td>\n",
       "      <td>0</td>\n",
       "      <td>1</td>\n",
       "      <td>1</td>\n",
       "      <td>0</td>\n",
       "      <td>0</td>\n",
       "    </tr>\n",
       "    <tr>\n",
       "      <th>576</th>\n",
       "      <td>41</td>\n",
       "      <td>0</td>\n",
       "      <td>0</td>\n",
       "      <td>0</td>\n",
       "      <td>0</td>\n",
       "      <td>0</td>\n",
       "      <td>0</td>\n",
       "      <td>0</td>\n",
       "      <td>0</td>\n",
       "      <td>0</td>\n",
       "      <td>...</td>\n",
       "      <td>0</td>\n",
       "      <td>1</td>\n",
       "      <td>0</td>\n",
       "      <td>0</td>\n",
       "      <td>1</td>\n",
       "      <td>0</td>\n",
       "      <td>0</td>\n",
       "      <td>1</td>\n",
       "      <td>0</td>\n",
       "      <td>0</td>\n",
       "    </tr>\n",
       "    <tr>\n",
       "      <th>14186</th>\n",
       "      <td>35</td>\n",
       "      <td>0</td>\n",
       "      <td>0</td>\n",
       "      <td>0</td>\n",
       "      <td>0</td>\n",
       "      <td>0</td>\n",
       "      <td>0</td>\n",
       "      <td>0</td>\n",
       "      <td>0</td>\n",
       "      <td>0</td>\n",
       "      <td>...</td>\n",
       "      <td>0</td>\n",
       "      <td>0</td>\n",
       "      <td>1</td>\n",
       "      <td>0</td>\n",
       "      <td>0</td>\n",
       "      <td>0</td>\n",
       "      <td>1</td>\n",
       "      <td>0</td>\n",
       "      <td>0</td>\n",
       "      <td>1</td>\n",
       "    </tr>\n",
       "  </tbody>\n",
       "</table>\n",
       "<p>3 rows × 113 columns</p>\n",
       "</div>"
      ],
      "text/plain": [
       "      age  previous  age_17  age_18  age_19  age_20  age_21  age_22  age_23  \\\n",
       "37215  38         0       0       0       0       0       0       0       0   \n",
       "576    41         0       0       0       0       0       0       0       0   \n",
       "14186  35         0       0       0       0       0       0       0       0   \n",
       "\n",
       "       age_24  ...  education_unknown  default_no  default_unknown  \\\n",
       "37215       0  ...                  0           1                0   \n",
       "576         0  ...                  0           1                0   \n",
       "14186       0  ...                  0           0                1   \n",
       "\n",
       "       default_yes  housing_no  housing_unknown  housing_yes  loan_no  \\\n",
       "37215            0           0                0            1        1   \n",
       "576              0           1                0            0        1   \n",
       "14186            0           0                0            1        0   \n",
       "\n",
       "       loan_unknown  loan_yes  \n",
       "37215             0         0  \n",
       "576               0         0  \n",
       "14186             0         1  \n",
       "\n",
       "[3 rows x 113 columns]"
      ]
     },
     "execution_count": 6,
     "metadata": {},
     "output_type": "execute_result"
    }
   ],
   "source": [
    "X = df.drop(\"y\", axis = \"columns\") \n",
    "y = df[\"y\"]\n",
    "\n",
    "from sklearn.model_selection import train_test_split\n",
    "\n",
    "#Getting our Training and Testing Set\n",
    "X_train, X_test, y_train, y_test = train_test_split(X,y, test_size=0.1, random_state=(2021-10-25))\n",
    "\n",
    "#Testing\n",
    "X_test.head(3)\n"
   ]
  },
  {
   "cell_type": "markdown",
   "id": "f81695a7",
   "metadata": {},
   "source": [
    "### Fitting a Categorical Naive Bayes Classifier"
   ]
  },
  {
   "cell_type": "code",
   "execution_count": 7,
   "id": "83d5c756",
   "metadata": {},
   "outputs": [
    {
     "name": "stdout",
     "output_type": "stream",
     "text": [
      "Test Score: 0.8701141053653799\n",
      "Train Score: 0.8766084868758262\n"
     ]
    }
   ],
   "source": [
    "from sklearn.naive_bayes import CategoricalNB\n",
    "\n",
    "classifier = CategoricalNB()\n",
    "classifier.fit(X_train,y_train)\n",
    "\n",
    "#Predicting Test Set Results\n",
    "pred = classifier.predict(X_test)\n",
    "score = classifier.score(X_test, y_test)\n",
    "print(\"Test Score:\", score)\n",
    "\n",
    "#Predicting Train Set Results\n",
    "pred1 = classifier.predict(X_train)\n",
    "score1 = classifier.score(X_train, y_train)\n",
    "print(\"Train Score:\", score1)"
   ]
  },
  {
   "cell_type": "markdown",
   "id": "0045f21b",
   "metadata": {},
   "source": [
    "**Categories of the Age Variable**\n",
    "* There are 78 categories for age\n"
   ]
  },
  {
   "cell_type": "code",
   "execution_count": 8,
   "id": "cea30963",
   "metadata": {},
   "outputs": [
    {
     "name": "stdout",
     "output_type": "stream",
     "text": [
      "There are 78 categories for age\n"
     ]
    }
   ],
   "source": [
    "age_categories = df['age'].unique()\n",
    "print(\"There are\", len(age_categories), \"categories for age\")\n"
   ]
  },
  {
   "cell_type": "markdown",
   "id": "5d10ea3f",
   "metadata": {},
   "source": [
    "**Splitting the Ages into Bins**\n",
    "* One per decade (10, 20, ...,100)"
   ]
  },
  {
   "cell_type": "code",
   "execution_count": 25,
   "id": "dabefc14",
   "metadata": {},
   "outputs": [],
   "source": [
    "#One bin per decade\n",
    "bins = [10,20,30,40,50,60,70,80,90,100]\n",
    "labels = [1,2,3,4,5,6,7,8,9]\n",
    "df['age_group'] = pd.cut(df['age'],bins = bins, labels=labels, precision = 0)\n",
    "age_group = pd.get_dummies(df['age_group'], drop_first=True)\n",
    "\n",
    "#new version\n",
    "new_age_data = pd.cut(df['age'],bins = bins, labels=labels, precision = 0)\n",
    "new_age_data = pd.get_dummies(new_age_data, drop_first=True)\n",
    "\n",
    "#Print how many is in an age group\n",
    "#df['age_group'].value_counts(sort = False)"
   ]
  },
  {
   "cell_type": "markdown",
   "id": "5985f49d",
   "metadata": {},
   "source": [
    "**Retraining our Classifier**\n",
    "* Does the performance change? **Yes it did**\n"
   ]
  },
  {
   "cell_type": "markdown",
   "id": "98bb0e6b",
   "metadata": {},
   "source": [
    "### Fitting a KNN Classifier\n",
    "THIS SHOULDN'T BE .99"
   ]
  },
  {
   "cell_type": "code",
   "execution_count": 10,
   "id": "797d6ec5",
   "metadata": {},
   "outputs": [
    {
     "name": "stdout",
     "output_type": "stream",
     "text": [
      "Test Score: 0.9990774011848111\n"
     ]
    }
   ],
   "source": [
    "#df['age_group'].head()\n",
    "X = df.drop('age_group', axis = \"columns\")\n",
    "y = df['age_group']\n",
    "\n",
    "#print(X_train)\n",
    "#print(y_train)\n",
    "#total_train = np.concatenate((X_train, y_train))\n",
    "#classifier.fit(new_age_data, y)\n",
    "\n",
    "from sklearn.naive_bayes import CategoricalNB\n",
    "\n",
    "classifier = CategoricalNB()\n",
    "classifier.fit(X ,y)\n",
    "\n",
    "#Predicting Test Set Results\n",
    "pred_1 = classifier.predict(X)\n",
    "score_1 = classifier.score(X, y)\n",
    "print(\"Test Score:\", score_1)\n"
   ]
  },
  {
   "cell_type": "code",
   "execution_count": 11,
   "id": "0958ec30",
   "metadata": {},
   "outputs": [
    {
     "name": "stdout",
     "output_type": "stream",
     "text": [
      "KNN Score: 0.8640446710366594\n"
     ]
    }
   ],
   "source": [
    "from sklearn.neighbors import KNeighborsClassifier\n",
    "classifier = KNeighborsClassifier(n_neighbors=3)\n",
    "classifier.fit(X_train, y_train)\n",
    "\n",
    "#Predicting Test Set Results\n",
    "proba_knn = classifier.score(X_test, y_test)\n",
    "print(\"KNN Score:\", proba_knn)"
   ]
  },
  {
   "cell_type": "markdown",
   "id": "bbc4bbf4",
   "metadata": {},
   "source": [
    "**How many values in the test set have response 0, and how many have response 1?**\n",
    "* Test Results are suspiciously similar\n",
    "* What would be the score if we simply assumed that no customer ever subscribed to the product?"
   ]
  },
  {
   "cell_type": "code",
   "execution_count": 12,
   "id": "e94c4ad6",
   "metadata": {},
   "outputs": [
    {
     "data": {
      "text/plain": [
       "(3646, 473)"
      ]
     },
     "execution_count": 12,
     "metadata": {},
     "output_type": "execute_result"
    }
   ],
   "source": [
    "#How many values in the test set have response 0, and how many have response 1?\n",
    "len([i for i in y_test if i == 0]), len([i for i in y_test if i == 1])\n"
   ]
  },
  {
   "cell_type": "markdown",
   "id": "b8cda63a",
   "metadata": {},
   "source": [
    "### Creating a Confusion Matrix and Finding AUC"
   ]
  },
  {
   "cell_type": "markdown",
   "id": "bd19d418",
   "metadata": {},
   "source": [
    "**Using numpy.zeros_like() to create a target vector representing the output of the “dumb” classifier**"
   ]
  },
  {
   "cell_type": "code",
   "execution_count": 13,
   "id": "254058b5",
   "metadata": {},
   "outputs": [
    {
     "name": "stdout",
     "output_type": "stream",
     "text": [
      "Confusion Matrix:\n",
      " [[3646    0]\n",
      " [ 473    0]]\n",
      "AUC Score: 0.6286303505014038\n"
     ]
    }
   ],
   "source": [
    "from sklearn.metrics import confusion_matrix, roc_curve, auc, roc_auc_score\n",
    "import numpy as np\n",
    "\n",
    "pred_0 = np.arange(len(y_test), dtype = int)\n",
    "pred_0 = np.zeros_like(pred_0)\n",
    "\n",
    "conf_matrix = confusion_matrix(y_test, pred_0)\n",
    "print(\"Confusion Matrix:\\n\", conf_matrix)\n",
    "\n",
    "predictProb_y = classifier.predict_proba(X_test)[:,1]\n",
    "auc = roc_auc_score(y_test, predictProb_y)\n",
    "print(\"AUC Score:\", auc)"
   ]
  },
  {
   "cell_type": "markdown",
   "id": "68a0517f",
   "metadata": {},
   "source": [
    "**Using the data where age is split into bins**\n",
    "\n",
    "THIS SHOULD BE A 2x2 MATRIX"
   ]
  },
  {
   "cell_type": "code",
   "execution_count": 14,
   "id": "e1419851",
   "metadata": {
    "scrolled": true
   },
   "outputs": [
    {
     "name": "stdout",
     "output_type": "stream",
     "text": [
      "Confusion Matrix:\n",
      " [[  139     0     0     0     0     1     0     0     0]\n",
      " [   10  7233     0     0     0     0     0     0     0]\n",
      " [   10     0 16371     0     0     0     0     4     0]\n",
      " [    4     0     0 10236     0     0     0     0     0]\n",
      " [    0     0     0     0  6270     0     0     0     0]\n",
      " [    0     0     0     0     0   488     0     0     0]\n",
      " [    0     0     0     0     0     0   303     0     0]\n",
      " [    0     0     0     0     0     0     0   109     0]\n",
      " [    0     0     0     0     0     0     6     3     1]]\n",
      "AUC Score: 0.6286303505014038\n"
     ]
    }
   ],
   "source": [
    "conf_matrix = confusion_matrix(y, pred_1)\n",
    "print(\"Confusion Matrix:\\n\", conf_matrix)\n",
    "\n",
    "predictProb_y = classifier.predict_proba(X_test)[:,1]\n",
    "auc = roc_auc_score(y_test, predictProb_y)\n",
    "print(\"AUC Score:\", auc)"
   ]
  },
  {
   "cell_type": "markdown",
   "id": "583955f4",
   "metadata": {},
   "source": [
    "**Using the original values**"
   ]
  },
  {
   "cell_type": "code",
   "execution_count": 15,
   "id": "7fe93551",
   "metadata": {},
   "outputs": [
    {
     "name": "stdout",
     "output_type": "stream",
     "text": [
      "Confusion Matrix:\n",
      " [[3482  164]\n",
      " [ 371  102]]\n",
      "AUC Score: 0.6286303505014038\n"
     ]
    }
   ],
   "source": [
    "conf_matrix = confusion_matrix(y_test, pred)\n",
    "print(\"Confusion Matrix:\\n\", conf_matrix)\n",
    "\n",
    "predictProb_y = classifier.predict_proba(X_test)[:,1]\n",
    "auc = roc_auc_score(y_test, predictProb_y)\n",
    "print(\"AUC Score:\", auc)"
   ]
  },
  {
   "cell_type": "markdown",
   "id": "d98a55d1",
   "metadata": {},
   "source": [
    "### Balancing our Data\n",
    "* We're dealing with an imbalanced data\n",
    "* Use pandas.DataFrame.where() and pandas.DataFrame.sample() to generate  balanced training sets by weighting the values with response 1 more heavily."
   ]
  },
  {
   "cell_type": "code",
   "execution_count": 16,
   "id": "f45e4d09",
   "metadata": {},
   "outputs": [
    {
     "name": "stdout",
     "output_type": "stream",
     "text": [
      "Counter({3: 16385, 4: 10240, 2: 7243, 5: 6270, 6: 488, 7: 303, 1: 140, 8: 109, 9: 10})\n",
      "Counter({0: 41469, 1: 41469})\n",
      "Statistics: Counter({0: 41469, 1: 41469})\n"
     ]
    }
   ],
   "source": [
    "#Imbalanced Dataset Fix using pandas.DataFrame.sample()\n",
    "from collections import Counter\n",
    "from sklearn.datasets import make_classification\n",
    "from imblearn.over_sampling import RandomOverSampler\n",
    "from sklearn.preprocessing import MinMaxScaler\n",
    "\n",
    "#defining the dataset\n",
    "X_train_new, y_train_new = make_classification(n_samples=41888, weights=[0.99], flip_y=0)\n",
    "print(Counter(y))\n",
    "\n",
    "over_sampler = RandomOverSampler(sampling_strategy='minority', random_state=(2021-10-25))\n",
    "X_new, y_new = over_sampler.fit_resample(X_train_new, y_train_new)\n",
    "print(Counter(y_new))\n",
    "\n",
    "scaler = MinMaxScaler()\n",
    "X_new = scaler.fit_transform(X_new)\n",
    "#swapped from \n",
    "#y_new = scaler.fit_transform(y_new)\n",
    "y_new1 = scaler.fit_transform(y_new.reshape(-1,1))\n",
    "\n",
    "print(f\"Statistics: {Counter(y_new)}\")"
   ]
  },
  {
   "cell_type": "markdown",
   "id": "26e8b2a6",
   "metadata": {},
   "source": [
    "**Retraining the balanced dataset and fitting a Categorical Naive Bayes Classifier**"
   ]
  },
  {
   "cell_type": "code",
   "execution_count": 17,
   "id": "607deeff",
   "metadata": {},
   "outputs": [
    {
     "name": "stdout",
     "output_type": "stream",
     "text": [
      "Test Score: 0.500180857990306\n",
      "Confusion Matrix:\n",
      " [[   15 41454]\n",
      " [    0 41469]]\n",
      "AUC Score: 0.500180857990306\n"
     ]
    }
   ],
   "source": [
    "classifier = CategoricalNB()\n",
    "classifier.fit(X_new, y_new)\n",
    "\n",
    "#Predicting Test Set Results\n",
    "pred_y_new = classifier.predict(X_new)\n",
    "score = classifier.score(X_new, y_new)\n",
    "print(\"Test Score:\", score)\n",
    "\n",
    "conf_matrix = confusion_matrix(y_new, pred_y_new)\n",
    "print(\"Confusion Matrix:\\n\", conf_matrix)\n",
    "\n",
    "predictProb_y = classifier.predict_proba(X_new)[:,1]\n",
    "auc = roc_auc_score(y_new, predictProb_y)\n",
    "print(\"AUC Score:\", auc)"
   ]
  },
  {
   "cell_type": "markdown",
   "id": "0bb0f279",
   "metadata": {},
   "source": [
    "**Retraining the balanced dataset and fitting a KNN Classifier**\n",
    "\n",
    "THE AUC AND KNN SCORE SHOULD BE LOWER"
   ]
  },
  {
   "cell_type": "code",
   "execution_count": 20,
   "id": "df8c15eb",
   "metadata": {},
   "outputs": [
    {
     "name": "stdout",
     "output_type": "stream",
     "text": [
      "KNN Score: 0.9987942800646266\n",
      "Confusion Matrix:\n",
      " [[41369   100]\n",
      " [    0 41469]]\n",
      "AUC Score: 1.0\n"
     ]
    }
   ],
   "source": [
    "classifier = KNeighborsClassifier(n_neighbors=3)\n",
    "classifier.fit(X_new, y_new)\n",
    "\n",
    "#Predicting Test Set Results\n",
    "pred_knn = classifier.predict(X_new)\n",
    "proba_knn = classifier.score(X_new, y_new)\n",
    "print(\"KNN Score:\", proba_knn)\n",
    "\n",
    "conf_matrix = confusion_matrix(y_new, pred_knn)\n",
    "print(\"Confusion Matrix:\\n\", conf_matrix)\n",
    "\n",
    "predictProb_y = classifier.predict_proba(X_new)[:,1]\n",
    "auc = roc_auc_score(y_new, predictProb_y)\n",
    "print(\"AUC Score:\", auc)"
   ]
  },
  {
   "cell_type": "markdown",
   "id": "0803f691",
   "metadata": {},
   "source": [
    "### Gaussian Naive Bayes \n",
    "* Using the input variables described as “social and economic context attributes” in bank-additional-names.txt."
   ]
  },
  {
   "cell_type": "markdown",
   "id": "25fddd79",
   "metadata": {},
   "source": [
    "**Grabbing our Variables**"
   ]
  },
  {
   "cell_type": "code",
   "execution_count": 5,
   "id": "78f25260",
   "metadata": {},
   "outputs": [
    {
     "name": "stdout",
     "output_type": "stream",
     "text": [
      "GNB Train Score: 0.7199816558310178\n",
      "GNB Test Score: 0.7193493566399611\n",
      "GNB Confusion Matrix:\n",
      " [[2634 1012]\n",
      " [ 144  329]]\n",
      "GNB AUC Score: 0.7348436526924581\n"
     ]
    }
   ],
   "source": [
    "import pandas as pd\n",
    "from sklearn.naive_bayes import GaussianNB\n",
    "from sklearn.model_selection import train_test_split\n",
    "from sklearn.metrics import confusion_matrix, roc_curve, auc, roc_auc_score\n",
    "\n",
    "#removes all but \"social and economic context attributes\"\n",
    "GNB_df = pd.read_csv ('bank-additional-full.csv', sep=';')\n",
    "GNB_df = GNB_df.drop([\"age\",\"job\",\"marital\",\"education\",\"default\",\"housing\",\"loan\",\"contact\",\"month\",\"day_of_week\",\"duration\",\"campaign\",\"pdays\",\"previous\",\"poutcome\"], axis = 1)\n",
    "\n",
    "GNB_X = GNB_df.drop(\"y\", axis = \"columns\")\n",
    "GNB_y = GNB_df[\"y\"]\n",
    "\n",
    "GNB_X_train, GNB_X_test, GNB_y_train, GNB_y_test = train_test_split(GNB_X, GNB_y, test_size = 0.1, random_state=(2021-10-25))\n",
    "\n",
    "GNB_classifier = GaussianNB()\n",
    "GNB_classifier.fit(GNB_X_train, GNB_y_train)\n",
    "\n",
    "GNB_train_pred = GNB_classifier.predict(GNB_X_train)\n",
    "GNB_train_score = GNB_classifier.score(GNB_X_train, GNB_y_train)\n",
    "print(\"GNB Train Score:\", GNB_train_score)\n",
    "\n",
    "GNB_test_pred = GNB_classifier.predict(GNB_X_test)\n",
    "GNB_test_score = GNB_classifier.score(GNB_X_test, GNB_y_test)\n",
    "print(\"GNB Test Score:\", GNB_test_score)\n",
    "#print(X_train)\n",
    "\n",
    "GNB_conf_matrix = confusion_matrix(GNB_y_test, GNB_test_pred)\n",
    "print(\"GNB Confusion Matrix:\\n\", GNB_conf_matrix)\n",
    "\n",
    "GNB_predictProb_y = GNB_classifier.predict_proba(GNB_X_test)[:,1]\n",
    "GNB_auc = roc_auc_score(GNB_y_test, GNB_predictProb_y)\n",
    "print(\"GNB AUC Score:\", GNB_auc)"
   ]
  },
  {
   "cell_type": "markdown",
   "id": "bbc07cbc",
   "metadata": {},
   "source": [
    "**Gaussian Naive Bayes**\n",
    "* Computing the score, confusion matrix and AUC\n",
    "* Do the results of the last experiment change if the training set is balanced? **Yes it does**"
   ]
  },
  {
   "cell_type": "code",
   "execution_count": null,
   "id": "ac474b20",
   "metadata": {
    "scrolled": false
   },
   "outputs": [],
   "source": []
  },
  {
   "cell_type": "code",
   "execution_count": null,
   "id": "73aedab5",
   "metadata": {},
   "outputs": [],
   "source": []
  }
 ],
 "metadata": {
  "kernelspec": {
   "display_name": "Python 3 (ipykernel)",
   "language": "python",
   "name": "python3"
  },
  "language_info": {
   "codemirror_mode": {
    "name": "ipython",
    "version": 3
   },
   "file_extension": ".py",
   "mimetype": "text/x-python",
   "name": "python",
   "nbconvert_exporter": "python",
   "pygments_lexer": "ipython3",
   "version": "3.9.7"
  }
 },
 "nbformat": 4,
 "nbformat_minor": 5
}
